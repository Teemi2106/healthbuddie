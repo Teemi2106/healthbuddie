{
 "cells": [
  {
   "cell_type": "code",
   "execution_count": 3,
   "id": "436adc98-eaa5-4490-97bc-702104aed3b9",
   "metadata": {},
   "outputs": [
    {
     "name": "stdout",
     "output_type": "stream",
     "text": [
      "   Age  Weight (kg)  Height (cm)  Gender   BMI     Meal Plan Exercise Routine\n",
      "0   39         73.7          170  Female  25.5      Low Carb             Yoga\n",
      "1   35         83.5          172   Other  28.2      Low Carb           Cardio\n",
      "2   53         98.8          197  Female  25.5      Low Carb             Yoga\n",
      "3   35         54.2          170   Other  18.8      Balanced           Cardio\n",
      "4   60         55.3          197  Female  14.2  High Protein             Yoga\n"
     ]
    }
   ],
   "source": [
    "import pandas as pd\n",
    "\n",
    "# Load the dataset\n",
    "df = pd.read_csv('dummy_health_data_2000.csv')\n",
    "\n",
    "# Display the first few rows of the dataset\n",
    "print(df.head())\n"
   ]
  },
  {
   "cell_type": "code",
   "execution_count": 4,
   "id": "cb54d17f-ef17-431a-b28b-900a876ca29d",
   "metadata": {},
   "outputs": [
    {
     "ename": "NameError",
     "evalue": "name 'CATEGORICAL_COLUMNS' is not defined",
     "output_type": "error",
     "traceback": [
      "\u001b[1;31m---------------------------------------------------------------------------\u001b[0m",
      "\u001b[1;31mNameError\u001b[0m                                 Traceback (most recent call last)",
      "Cell \u001b[1;32mIn[4], line 5\u001b[0m\n\u001b[0;32m      2\u001b[0m NUMERIC_COLUMNS:[\u001b[38;5;124m\"\u001b[39m\u001b[38;5;124mAge\u001b[39m\u001b[38;5;124m\"\u001b[39m, \u001b[38;5;124m\"\u001b[39m\u001b[38;5;124mWeight (kg)\u001b[39m\u001b[38;5;124m\"\u001b[39m, \u001b[38;5;124m\"\u001b[39m\u001b[38;5;124mHeight (cm)\u001b[39m\u001b[38;5;124m\"\u001b[39m, \u001b[38;5;124m\"\u001b[39m\u001b[38;5;124mBMI\u001b[39m\u001b[38;5;124m\"\u001b[39m]\n\u001b[0;32m      4\u001b[0m feature_columns \u001b[38;5;241m=\u001b[39m []\n\u001b[1;32m----> 5\u001b[0m \u001b[38;5;28;01mfor\u001b[39;00m feature_name \u001b[38;5;129;01min\u001b[39;00m \u001b[43mCATEGORICAL_COLUMNS\u001b[49m:\n\u001b[0;32m      6\u001b[0m     vocabulary \u001b[38;5;241m=\u001b[39m dftrain[feature_name]\u001b[38;5;241m.\u001b[39munique()\n\u001b[0;32m      7\u001b[0m     feature_columns\u001b[38;5;241m.\u001b[39mappend(tf\u001b[38;5;241m.\u001b[39mfeature_column\u001b[38;5;241m.\u001b[39mcategorical_column_with_vocabulary_list(feature_name, vocabulary))\n",
      "\u001b[1;31mNameError\u001b[0m: name 'CATEGORICAL_COLUMNS' is not defined"
     ]
    }
   ],
   "source": [
    "CATEGORICAL_COLUMNS:[\"Gender\",\"Meal Plan\", \"Exercise Routine\"]\n",
    "NUMERIC_COLUMNS:[\"Age\", \"Weight (kg)\", \"Height (cm)\", \"BMI\"]\n",
    "\n",
    "feature_columns = []\n",
    "for feature_name in CATEGORICAL_COLUMNS:\n",
    "    vocabulary = dftrain[feature_name].unique()\n",
    "    feature_columns.append(tf.feature_column.categorical_column_with_vocabulary_list(feature_name, vocabulary))\n",
    "for feature_name in NUMERIC_COLUMNS:\n",
    "    feature_columns.append(tf.feature_column.numeric_column(feature_name, dtype=tf.float32))"
   ]
  },
  {
   "cell_type": "code",
   "execution_count": null,
   "id": "3f5c42e7-48dd-41ad-b338-926b9a442870",
   "metadata": {},
   "outputs": [],
   "source": [
    "from sklearn.ensemble import RandomForestClassifier\n",
    "\n",
    "# Initialize the model\n",
    "meal_plan_model = RandomForestClassifier(random_state=42)\n",
    "exercise_routine_model = RandomForestClassifier(random_state=42)\n",
    "\n",
    "# Train the model\n",
    "meal_plan_model.fit(X_train, y_train_meal)\n",
    "exercise_routine_model.fit(X_train, y_train_exercise)\n"
   ]
  },
  {
   "cell_type": "code",
   "execution_count": null,
   "id": "70a8001f-dbc2-4e9a-b02f-ded2f13026f5",
   "metadata": {},
   "outputs": [],
   "source": [
    "from sklearn.metrics import accuracy_score, classification_report\n",
    "\n",
    "# Make predictions\n",
    "meal_plan_predictions = meal_plan_model.predict(X_test)\n",
    "exercise_routine_predictions = exercise_routine_model.predict(X_test)\n",
    "\n",
    "# Evaluate the model for meal plan predictions\n",
    "meal_plan_accuracy = accuracy_score(y_test_meal, meal_plan_predictions)\n",
    "print(f\"Meal Plan Prediction Accuracy: {meal_plan_accuracy}\")\n",
    "print(\"Meal Plan Classification Report:\")\n",
    "print(classification_report(y_test_meal, meal_plan_predictions))\n",
    "\n",
    "# Evaluate the model for exercise routine predictions\n",
    "exercise_routine_accuracy = accuracy_score(y_test_exercise, exercise_routine_predictions)\n",
    "print(f\"Exercise Routine Prediction Accuracy: {exercise_routine_accuracy}\")\n",
    "print(\"Exercise Routine Classification Report:\")\n",
    "print(classification_report(y_test_exercise, exercise_routine_predictions))\n"
   ]
  },
  {
   "cell_type": "code",
   "execution_count": null,
   "id": "057eb6ed-e992-4abf-9cf2-eca00db875af",
   "metadata": {},
   "outputs": [],
   "source": [
    "import joblib\n",
    "\n",
    "# Save the model\n",
    "joblib.dump(meal_plan_model, 'meal_plan_model.pkl')\n",
    "joblib.dump(exercise_routine_model, 'exercise_routine_model.pkl')\n"
   ]
  },
  {
   "cell_type": "code",
   "execution_count": null,
   "id": "474d38df-2da7-4caa-94a2-9ee320ed91c6",
   "metadata": {},
   "outputs": [],
   "source": []
  }
 ],
 "metadata": {
  "kernelspec": {
   "display_name": "Python 3 (ipykernel)",
   "language": "python",
   "name": "python3"
  },
  "language_info": {
   "codemirror_mode": {
    "name": "ipython",
    "version": 3
   },
   "file_extension": ".py",
   "mimetype": "text/x-python",
   "name": "python",
   "nbconvert_exporter": "python",
   "pygments_lexer": "ipython3",
   "version": "3.10.2"
  },
  "widgets": {
   "application/vnd.jupyter.widget-state+json": {
    "state": {},
    "version_major": 2,
    "version_minor": 0
   }
  }
 },
 "nbformat": 4,
 "nbformat_minor": 5
}
